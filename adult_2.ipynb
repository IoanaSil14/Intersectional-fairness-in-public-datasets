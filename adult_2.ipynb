{
 "cells": [
  {
   "cell_type": "code",
   "execution_count": null,
   "id": "initial_id",
   "metadata": {
    "collapsed": true
   },
   "outputs": [],
   "source": [
    ""
   ]
  },
  {
   "metadata": {},
   "cell_type": "code",
   "outputs": [],
   "execution_count": null,
   "source": [
    "import numpy as np\n",
    "%load_ext autoreload\n",
    "%autoreload 2\n",
    "import pandas as pd\n",
    "from helpers.training import *\n",
    "from helpers.visualizations import *\n",
    "from helpers.preprocessing import *\n",
    "from helpers.aequitas_methods import *\n",
    "from helpers.mitigation_methods import *\n",
    "from aequitas.flow.methods.inprocessing import FairlearnClassifier\n",
    "from sklearn.metrics import classification_report\n",
    "from IPython.display import display, HTML\n",
    "from aequitas import Audit\n",
    "import matplotlib.pyplot as plt\n",
    "from sklearn.preprocessing import MinMaxScaler\n",
    "import openml\n",
    "import warnings\n",
    "import math\n",
    "from helpers.adult_dataset_preps import *\n",
    "warnings.filterwarnings(action='ignore')"
   ],
   "id": "bf7471a7088680a8"
  },
  {
   "metadata": {},
   "cell_type": "code",
   "outputs": [],
   "execution_count": null,
   "source": [
    "df = initial_dataset_preprocess()\n",
    "target = \"target\"\n",
    "median = df[target].median()\n",
    "print(\"median value:\", median)\n",
    "\n",
    "def categorize_target(target):\n",
    "    if target < median:\n",
    "        return 0\n",
    "    if target >= median:\n",
    "        return 1\n",
    "df[\"target\"] = df[\"target\"].apply(categorize_target)\n",
    "protected_attributes = [\"age\",\"race\",\"marital status\",\"sex\"]"
   ],
   "id": "a06f71ea8aa84cf3"
  },
  {
   "metadata": {},
   "cell_type": "code",
   "outputs": [],
   "execution_count": null,
   "source": "plot_attributes(df,protected_attributes, target, num_rows=2, num_cols=2)",
   "id": "2c756ea294a942b3"
  },
  {
   "metadata": {},
   "cell_type": "code",
   "outputs": [],
   "execution_count": null,
   "source": [
    "\n",
    "df_num = encode_and_scale(df,target)          \n",
    "df['marital status'] = df['marital status'].astype(int)\n",
    "df['sex'] = df['sex'].astype(int)\n",
    "\n",
    "'''\n",
    "Top 3 protected attributes: Race, MaritalStatus, Age, Sex. Create new dataset with new columns containing the intersection of these attributes. Convert them to numerical.\n",
    "'''\n",
    "df_intersect = df.copy()\n",
    "df_intersect[\"race/maritalstatus\"] = df_intersect[\"race\"].astype(str) + \" \" +  df_intersect[\"marital status\"].astype(str)\n",
    "df_intersect[\"race/age\"] = df_intersect[\"race\"].astype(str) + \" \" + df_intersect[\"age\"].astype(str)\n",
    "df_intersect[\"maritalstatus/age\"] = df_intersect[\"marital status\"].astype(str) + \" \" + df_intersect[\"age\"].astype(str)\n",
    "df_intersect[\"sex/race\"] = df_intersect[\"sex\"].astype(str) + \" \" +  df_intersect[\"race\"].astype(str)\n",
    "df_intersect[\"sex/age\"] = df_intersect[\"sex\"].astype(str) + \" \" +  df_intersect[\"age\"].astype(str)\n",
    "df_intersect[\"sex/maritalstatus\"] = df_intersect[\"sex\"].astype(str) + \" \" +  df_intersect[\"marital status\"].astype(str)\n",
    "df_intersect.drop([\"race\", \"marital status\", \"age\",\"sex\"], axis=1, inplace=True)\n",
    "\n",
    "df_num_int = encode_and_scale(df_intersect,target)\n",
    "protected_attributes_int = [\"race/maritalstatus\",\"race/age\",\"maritalstatus/age\",\"sex/race\",\"sex/age\",\"sex/maritalstatus\"]"
   ],
   "id": "5d249077c797cffd"
  },
  {
   "metadata": {},
   "cell_type": "code",
   "outputs": [],
   "execution_count": null,
   "source": [
    "def split_and_train(data, attributes):\n",
    "    y = data.loc[:, target]\n",
    "    x = data.drop(target, axis=1)\n",
    "    x_train, x_test, y_train, y_test = train_test_split(x, y, test_size=0.20, random_state=0)\n",
    "    models = {\"Catboost\",\n",
    "                  \"LogisticRegression\",\n",
    "                  \"RandomForest\",\n",
    "                  \"DecisionTree\"\n",
    "                  }\n",
    "    y_predicted_dict = {}\n",
    "    metrics_dict = {}\n",
    "    for m in models:\n",
    "            model = choose_model(m, x_train, y_train)\n",
    "            y_predicted =  evaluate_model(model, x_train, x_test, y_train, y_test)\n",
    "            attribute_metrics  = calc_metrics(x_test=x_test,y_test=y_test,y_predicted=y_predicted,attributes=attributes, target=target)\n",
    "            metrics_dict[m] = attribute_metrics\n",
    "            y_predicted_dict[m] = y_predicted\n",
    "            print(f\"Classification report for model: {model} : \\n {classification_report(y_test, y_predicted)}\")\n",
    "            # plot_roc_curve(y_true=y_test, y_pred=y_predicted, model_name=m)\n",
    "    return x_test, y_test, y_predicted_dict, metrics_dict\n",
    "\n",
    "def plot_audit(dataset, attributes):\n",
    "    audit = Audit(dataset[['score','label_value']+attributes])\n",
    "    summary = audit.summary_plot([\"tpr\",\"fpr\",\"fnr\",\"tnr\",\"pprev\"])\n",
    "    summary.show()"
   ],
   "id": "8550a6f43f3393fe"
  },
  {
   "metadata": {},
   "cell_type": "code",
   "outputs": [],
   "execution_count": null,
   "source": [
    "\"\"\"\n",
    "Train and calculate fairness metrics for original dataset.\n",
    "\"\"\"\n",
    "x_test, y_test, y_predicted_dict, metrics_dict = split_and_train(df,protected_attributes)"
   ],
   "id": "7abb07d155fad932"
  },
  {
   "metadata": {},
   "cell_type": "code",
   "outputs": [],
   "execution_count": null,
   "source": [
    "df_test = calc_fairness_report(x_test, y_test, y_predicted_dict['DecisionTree'], target, protected_attributes, display_disp=True)\n",
    "# \n",
    "# calc_fairness_report(x_test, y_test, y_predicted_dict['DecisionTree'], target, protected_attributes, display_disp=True)\n",
    "# calc_fairness_report(x_test, y_test, y_predicted_dict['LogisticRegression'], target, protected_attributes, display_disp=True)\n"
   ],
   "id": "e5a7029cf0536a3c"
  },
  {
   "metadata": {},
   "cell_type": "code",
   "outputs": [],
   "execution_count": null,
   "source": [
    "\"\"\"\n",
    "Train and calculate fariness metrics for the dataset obtained by the intersection of protected attributes.\n",
    "\"\"\"\n",
    "x_test_int, y_test_int, y_predicted_dict_int, metrics_dict_int = split_and_train(df_num_int,protected_attributes_int)"
   ],
   "id": "39c24836df28be33"
  },
  {
   "metadata": {},
   "cell_type": "code",
   "outputs": [],
   "execution_count": null,
   "source": "df_test_int = calc_fairness_report(x_test_int, y_test_int, y_predicted_dict_int['DecisionTree'], target, protected_attributes_int,display_disp=True)",
   "id": "17bbabd2e174e9d"
  },
  {
   "metadata": {},
   "cell_type": "markdown",
   "source": "# Apply pre-processing bias mitigation methods",
   "id": "bdfc5a33b807fe02"
  },
  {
   "metadata": {},
   "cell_type": "code",
   "outputs": [],
   "execution_count": null,
   "source": [
    "'''\n",
    "1: Massaging method (Flips selected labels to reduce prevalence disparity between groups), train and calculate metrics.\n",
    "'''\n",
    "\n",
    "#transform data\n",
    "data_to_transform = df_num_int.copy()\n",
    "for attr in protected_attributes_int:\n",
    "    data_transformed_mess = pre_process_massaging(data_to_transform,attr,target)\n",
    "    data_transformed_mess[attr] = data_transformed_mess[attr].astype(int)\n",
    "    data_to_transform = data_transformed_mess.copy()\n",
    "\n",
    "# data_transformed_m1 = pre_process_massaging(data_to_transform, \"race/maritalstatus\",target)\n",
    "# data_transformed_m1[\"race/maritalstatus\"] = data_transformed_m1[\"race/maritalstatus\"].astype(int)\n",
    "# data_transformed_m2 = pre_process_massaging(data_transformed_m1, \"race/age\",target)\n",
    "# data_transformed_m2[\"race/age\"] = data_transformed_m2[\"race/age\"].astype(int)\n",
    "# data_transformed_m3= pre_process_massaging(data_transformed_m2, \"maritalstatus/age\",target)\n",
    "# data_transformed_m3[\"maritalstatus/age\"] = data_transformed_m3[\"maritalstatus/age\"].astype(int)\n",
    "\n",
    "#train on the transformed dataset\n",
    "x_test_ms, y_test_ms, y_predicted_dict_transformed, metrics_ms_dict = split_and_train(data_to_transform,protected_attributes_int)\n"
   ],
   "id": "70b70e711f4849cb"
  },
  {
   "metadata": {},
   "cell_type": "code",
   "outputs": [],
   "execution_count": null,
   "source": [
    "#calculate the fairness report\n",
    "df_test_transformed =calc_fairness_report(x_test_ms, y_test_ms, y_predicted_dict_transformed[\"Catboost\"],target,protected_attributes_int, display_disp=True)"
   ],
   "id": "e909de741587a5f5"
  },
  {
   "metadata": {},
   "cell_type": "code",
   "outputs": [],
   "execution_count": null,
   "source": [
    "# compare disparities to the original dataset\n",
    "plot_audit(df_test, protected_attributes)\n",
    "plot_audit(df_test_int, protected_attributes_int)\n",
    "plot_audit(df_test_transformed, protected_attributes_int)"
   ],
   "id": "68190351b986f68d"
  },
  {
   "metadata": {},
   "cell_type": "code",
   "outputs": [],
   "execution_count": null,
   "source": [
    "''' \n",
    "2: Prevalance Sampling: Generates a training sample with controllable balanced prevalence for the groups in dataset, either by undersampling or oversampling.\n",
    "'''\n",
    "#transform data\n",
    "data_to_transform = df_num_int.copy()\n",
    "for attr in protected_attributes_int:\n",
    "    data_transformed_ps = pre_process_prev_sampling(data_to_transform,attr,target)\n",
    "    data_transformed_ps[attr] = data_transformed_ps[attr].astype(int)\n",
    "    data_to_transform = data_transformed_ps.copy()\n",
    "# data_transformed_ps1 = pre_process_prev_sampling(data_to_transform, \"race/maritalstatus\",target)\n",
    "# data_transformed_ps1[\"race/maritalstatus\"] = data_transformed_ps1[\"race/maritalstatus\"].astype(int)\n",
    "# data_transformed_ps2 = pre_process_prev_sampling(data_transformed_ps1, \"race/age\",target)\n",
    "# data_transformed_ps2[\"race/age\"] = data_transformed_ps2[\"race/age\"].astype(int)\n",
    "# data_transformed_ps3= pre_process_prev_sampling(data_transformed_ps2, \"maritalstatus/age\",target)\n",
    "# data_transformed_ps3[\"maritalstatus/age\"] = data_transformed_ps3[\"maritalstatus/age\"].astype(int)\n",
    "\n",
    "#train the new dataset\n",
    "x_test_ps, y_test_ps, y_predicted_dict_ps, metrics_ps_dict = split_and_train(data_to_transform,protected_attributes_int)"
   ],
   "id": "d8f29468797df322"
  },
  {
   "metadata": {},
   "cell_type": "code",
   "outputs": [],
   "execution_count": null,
   "source": [
    "df_test_transformed_ps =calc_fairness_report(x_test_ps, y_test_ps, y_predicted_dict_ps[\"Catboost\"],target,protected_attributes_int, display_disp=True)\n",
    "\n",
    "#compare disparities\n",
    "plot_audit(df_test_int, protected_attributes_int)\n",
    "plot_audit(df_test_transformed_ps, protected_attributes_int)"
   ],
   "id": "bfeec167acc96650"
  },
  {
   "metadata": {},
   "cell_type": "code",
   "outputs": [],
   "execution_count": null,
   "source": [
    "print(np.shape(df))\n",
    "print(np.shape(data_transformed_ps))\n",
    "plot_attributes(data_transformed_ps,protected_attributes_int)"
   ],
   "id": "3a021fd438cffd32"
  },
  {
   "metadata": {},
   "cell_type": "markdown",
   "source": "",
   "id": "6858e217834c4a1"
  },
  {
   "metadata": {},
   "cell_type": "markdown",
   "source": "",
   "id": "db5b71809c5460d7"
  },
  {
   "metadata": {},
   "cell_type": "code",
   "outputs": [],
   "execution_count": null,
   "source": [
    "'''\n",
    "3. Data repairer: Transforms the data distribution so that a given feature distribution is marginally independent of the sensitive attribute, s. \n",
    "'''\n",
    "\n",
    "#transform data\n",
    "data_to_transform = df_num_int.copy()\n",
    "columns_to_change = df_num_int.columns.difference(protected_attributes_int).tolist()\n",
    "columns_to_change.remove(target)\n",
    "\n",
    "for attr in protected_attributes_int:\n",
    "    data_transformed_dr = pre_process_data_repairer(data_to_transform,attr,target,columns_to_change)\n",
    "    data_transformed_dr[attr] = data_transformed_dr[attr].astype(int)\n",
    "    data_to_transform = data_transformed_dr.copy()\n",
    "# data_transformed_dr1 = pre_process_data_repairer(data_to_transform, \"race/age\",target,columns_to_change)\n",
    "# data_transformed_dr2 = pre_process_data_repairer(data_transformed_dr1, \"race/maritalstatus\",target,columns_to_change)\n",
    "# data_transformed_dr3 = pre_process_data_repairer(data_transformed_dr2, \"maritalstatus/age\",target,columns_to_change)\n",
    "# data_transformed_dr3[\"race/age\"] = data_transformed_dr3[\"race/age\"].astype(int)\n",
    "# data_transformed_dr3[\"race/maritalstatus\"] = data_transformed_dr3[\"race/maritalstatus\"].astype(int)\n",
    "# data_transformed_dr3[\"maritalstatus/age\"] = data_transformed_dr3[\"maritalstatus/age\"].astype(int)\n",
    "\n",
    "#train\n",
    "x_test_dr, y_test_dr, y_predicted_dict_dr, metrics_dr_dict = split_and_train(data_to_transform,protected_attributes_int)"
   ],
   "id": "247b9765d7d502dc"
  },
  {
   "metadata": {},
   "cell_type": "code",
   "outputs": [],
   "execution_count": null,
   "source": [
    "  \n",
    "#calc metrics\n",
    "df_test_transformed_dr =calc_fairness_report(x_test_dr, y_test_dr, y_predicted_dict_dr[\"Catboost\"],target,protected_attributes_int)\n",
    "\n",
    "#compare disparities\n",
    "plot_audit(df_test_int, protected_attributes_int)\n",
    "plot_audit(df_test_transformed_dr, protected_attributes_int)"
   ],
   "id": "67efbe2350b5207a"
  },
  {
   "metadata": {},
   "cell_type": "code",
   "outputs": [],
   "execution_count": null,
   "source": [
    "'''\n",
    "4. Label flipping\n",
    "'''\n",
    "\n",
    "#transform data\n",
    "data_to_transform = df_num_int.copy()\n",
    "columns_to_change = df_num_int.columns.difference(protected_attributes_int).tolist()\n",
    "columns_to_change.remove(target)\n",
    "\n",
    "for attr in protected_attributes_int:\n",
    "    data_transformed_lf = pre_process_label_flip(data_to_transform,attr,target)\n",
    "    data_transformed_lf[attr] = data_transformed_lf[attr].astype(int)\n",
    "    data_to_transform = data_transformed_lf.copy()\n",
    "\n",
    "# data_transformed_lf1 = pre_process_label_flip(data_to_transform, 'maritalstatus/age', target)\n",
    "# data_transformed_lf2 = pre_process_label_flip(data_transformed_lf1, 'race/maritalstatus', target)\n",
    "# data_transformed_lf3 = pre_process_label_flip(data_transformed_lf2, 'race/age', target)\n",
    "# data_transformed_lf3['maritalstatus/age'] = data_transformed_lf3['maritalstatus/age'].astype(int)\n",
    "# data_transformed_lf3['race/maritalstatus'] = data_transformed_lf3['race/maritalstatus'].astype(int)\n",
    "# data_transformed_lf3['race/age'] = data_transformed_lf3['race/age'].astype(int)\n",
    "\n",
    "#train\n",
    "x_test_lf, y_test_lf, y_predicted_dict_lf, metrics_lf_dict = split_and_train(data_to_transform,\n",
    "                                                                             protected_attributes_int)\n"
   ],
   "id": "293892df83f971"
  },
  {
   "metadata": {},
   "cell_type": "code",
   "outputs": [],
   "execution_count": null,
   "source": [
    "\n",
    "#calc metrics\n",
    "df_test_transformed_lf = calc_fairness_report(x_test_lf, y_test_lf, y_predicted_dict_lf[\"LogisticRegression\"], target,\n",
    "                                              protected_attributes_int, display_disp=True)\n",
    "\n",
    "#compare disparities\n",
    "plot_audit(df_test_int, protected_attributes_int)\n",
    "plot_audit(df_test_transformed_lf, protected_attributes_int)"
   ],
   "id": "30f50820ddb3b3f3"
  },
  {
   "metadata": {},
   "cell_type": "code",
   "outputs": [],
   "execution_count": null,
   "source": [
    "'''\n",
    "In-processing: Fair learn classifier \n",
    "'''\n",
    "def train_with_fairlearn(data, attribute, model, metrics_dict):\n",
    "    y = data.loc[:, target]\n",
    "    x = data.drop(target, axis=1)\n",
    "    x_train, x_test, y_train, y_test = train_test_split(x, y, test_size=0.20, random_state=0)\n",
    "    s_train = x_train[attribute]\n",
    "    x_train = x_train.drop(columns= [attribute], axis=1)\n",
    "    s_test = x_test[attribute]\n",
    "    x_test = x_test.drop(columns= [attribute], axis=1)\n",
    "    \n",
    "    fairlearn_clf = FairlearnClassifier(estimator=model, constraint=\"fairlearn.reductions.EqualizedOdds\",reduction='fairlearn.reductions.ExponentiatedGradient')\n",
    "    \n",
    "    fairlearn_clf.fit(x_train, y_train, s_train) \n",
    "    y_train_pred = fairlearn_clf.predict_proba(x_train,s_train).astype(int)\n",
    "    y_test_pred = fairlearn_clf.predict_proba(x_test,s_test).astype(int)\n",
    "    x_test.insert(len(x_test.columns)-1,attribute,s_test,True) # insert back the attribute\n",
    "    print(\"Model:\\n\", model)\n",
    "    print(f\"Accuracy score training:\\n{accuracy_score(y_train, y_train_pred):.4f}\")\n",
    "    print(f\"Accuracy score test:\\n{accuracy_score(y_test, y_test_pred):.4f}\")\n",
    "    print(f\"Classification report for model: {model} : \\n {classification_report(y_test, y_test_pred)}\")\n",
    "    metric  = calc_metrics(x_test=x_test,y_test=y_test,y_predicted=y_test_pred,attributes=[attribute], target=target)\n",
    "    metrics_dict[model] =metric\n",
    "    return x_test, y_test, y_test_pred, metrics_dict\n",
    "\n",
    "\n",
    "data_to_transform = df_num_int.copy()\n",
    "models = [\"sklearn.tree.DecisionTreeClassifier\"]\n",
    "metrics_dict = {}\n",
    "x_test_fl, y_test_fl, y_test_pred_fl, metrics_dict_fl =train_with_fairlearn(data_to_transform, \"race/age\", models[0], metrics_dict)"
   ],
   "id": "185bb92923393a6f"
  },
  {
   "metadata": {},
   "cell_type": "code",
   "outputs": [],
   "execution_count": null,
   "source": [
    "from fairlearn.reductions.\n",
    "from fairlearn.reductions._moments"
   ],
   "id": "6694eb4e4595d56b"
  },
  {
   "metadata": {},
   "cell_type": "code",
   "outputs": [],
   "execution_count": null,
   "source": [
    "#calc metrics\n",
    "df_test_transformed_fl =calc_fairness_report(x_test_fl, y_test_fl, y_test_pred_fl,target,protected_attributes_int, display_disp=True)\n",
    "\n",
    "#compare disparities\n",
    "plot_audit(df_test_int, protected_attributes_int)\n",
    "plot_audit(df_test_transformed_fl, protected_attributes_int)\n"
   ],
   "id": "e065c4c2d8dbf031"
  },
  {
   "metadata": {},
   "cell_type": "code",
   "outputs": [],
   "execution_count": null,
   "source": "df_test_fairlearn = post_process_group_threshold_fairlearn(df_num_int, protected_attributes_int, target)",
   "id": "6ac053d1f68d5423"
  },
  {
   "metadata": {},
   "cell_type": "code",
   "outputs": [],
   "execution_count": null,
   "source": [
    "plot_audit(df_test_int, protected_attributes_int)\n",
    "plot_audit(df_test_fairlearn, protected_attributes_int)"
   ],
   "id": "58b6a7e9e9b07117"
  },
  {
   "metadata": {},
   "cell_type": "code",
   "outputs": [],
   "execution_count": null,
   "source": "df_test_aequitas = post_process_group_threshold_aequitas(df_num_int, 'race/age', target)\n",
   "id": "a778037a3c8fcfbe"
  },
  {
   "metadata": {},
   "cell_type": "code",
   "outputs": [],
   "execution_count": null,
   "source": [
    "plot_audit(df_test_int, protected_attributes_int)\n",
    "plot_audit(df_test_aequitas, [\"race/age\"])"
   ],
   "id": "e8c5dfc773a9e681"
  },
  {
   "metadata": {},
   "cell_type": "code",
   "outputs": [],
   "execution_count": null,
   "source": [
    "metrics_rf = {}\n",
    "metrics_rf[\"Initial dataset\"] = metrics_dict_int[\"RandomForest\"]['race/age']\n",
    "metrics_rf[\"Prevelance Sampling\"] = metrics_ps_dict[\"RandomForest\"]['race/age']\n",
    "metrics_rf[\"Massaging\"] = metrics_ms_dict[\"RandomForest\"]['race/age']\n",
    "metrics_rf[\"Data repairer\"] = metrics_dr_dict[\"RandomForest\"]['race/age']\n",
    "plot_metrics(metrics_rf,'race/age')"
   ],
   "id": "4721af68f70e1e71"
  },
  {
   "metadata": {},
   "cell_type": "code",
   "outputs": [],
   "execution_count": null,
   "source": [
    "metrics_rf = {}\n",
    "metrics_rf[\"Initial dataset\"] = metrics_dict_int[\"RandomForest\"]['race/maritalstatus']\n",
    "metrics_rf[\"Prevelance Sampling\"] = metrics_ps_dict[\"RandomForest\"]['race/maritalstatus']\n",
    "metrics_rf[\"Massaging\"] = metrics_ms_dict[\"RandomForest\"]['race/maritalstatus']\n",
    "plot_metrics(metrics_rf,'race/maritalstatus')"
   ],
   "id": "de4abcb88738de18"
  },
  {
   "metadata": {},
   "cell_type": "code",
   "outputs": [],
   "execution_count": null,
   "source": [
    "metrics_rf = {}\n",
    "metrics_rf[\"Initial dataset\"] = metrics_dict_int[\"RandomForest\"]['maritalstatus/age']\n",
    "metrics_rf[\"Prevelance Sampling\"] = metrics_ps_dict[\"RandomForest\"]['maritalstatus/age']\n",
    "metrics_rf[\"Massaging\"] = metrics_ms_dict[\"RandomForest\"]['maritalstatus/age']\n",
    "plot_metrics(metrics_rf,'maritalstatus/age')"
   ],
   "id": "dab5df40d9e3745b"
  },
  {
   "metadata": {},
   "cell_type": "code",
   "outputs": [],
   "execution_count": null,
   "source": [
    "\n",
    "index = 4 \n",
    "plt.figure(figsize=(10, 6))\n",
    "accuracy_scores = {}\n",
    "accuracy_scores[\"Orignal dataset\"] = {\"Catboost\": 0.79, \"RandomForest\":0.78, \"DecisionTree\":0.77, \"LR\":0.76}\n",
    "accuracy_scores[\"Intersectional dataset\"] = {\"Catboost\": 0.8, \"RandomForest\":0.78, \"DecisionTree\":0.76, \"LR\":0.76}\n",
    "accuracy_scores[\"Massaging method\"] = {\"Catboost\": 0.92, \"RandomForest\":0.87, \"DecisionTree\":0.86, \"LR\":0.83}\n",
    "accuracy_scores[\"Prevelance Sampling\"] = {\"Catboost\": 0.77, \"RandomForest\":0.75, \"DecisionTree\":0.73, \"LR\":0.73}\n",
    "accuracy_scores[\"Data repairer\"] = {\"Catboost\": 0.78, \"RandomForest\":0.76, \"DecisionTree\":0.75, \"LR\":0.76}\n",
    "\n",
    "accuracy_df = pd.DataFrame(accuracy_scores).T\n",
    "# Set the plot style\n",
    "sns.set(style=\"whitegrid\")\n",
    "sns.set_palette(\"blend:#7AB,#EDA\")\n",
    "# Plot each method's accuracy scores\n",
    "accuracy_df.plot(kind='bar', figsize=(10, 6))\n",
    "\n",
    "# Add title and labels\n",
    "plt.title(\"Accuracy Scores by Dataset and Model\", fontsize=16)\n",
    "plt.xlabel(\"Method\", fontsize=12)\n",
    "plt.ylabel(\"Accuracy Score\", fontsize=12)\n",
    "plt.xticks(rotation=45)\n",
    "plt.legend(title=\"Model\", bbox_to_anchor=(1.05, 1), loc='upper left')\n",
    "\n",
    "# Show the plot\n",
    "plt.tight_layout()\n",
    "plt.show()"
   ],
   "id": "b47f72ac3f86ee5f"
  },
  {
   "metadata": {},
   "cell_type": "code",
   "outputs": [],
   "execution_count": null,
   "source": "",
   "id": "af96c1853a94130e"
  }
 ],
 "metadata": {
  "kernelspec": {
   "display_name": "Python 3",
   "language": "python",
   "name": "python3"
  },
  "language_info": {
   "codemirror_mode": {
    "name": "ipython",
    "version": 2
   },
   "file_extension": ".py",
   "mimetype": "text/x-python",
   "name": "python",
   "nbconvert_exporter": "python",
   "pygments_lexer": "ipython2",
   "version": "2.7.6"
  }
 },
 "nbformat": 4,
 "nbformat_minor": 5
}
